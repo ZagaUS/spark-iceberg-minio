{
 "cells": [
  {
   "cell_type": "code",
   "execution_count": 2,
   "id": "0f1b4683-593e-43a0-a229-7fe134171004",
   "metadata": {},
   "outputs": [],
   "source": [
    "from pyspark import SparkConf\n",
    "from pyspark.sql import SparkSession\n",
    "from pyspark.errors import PySparkException\n",
    "from pyspark.sql.types import StructType, StructField, StringType, TimestampType , LongType\n",
    "\n",
    "# spark_config = config['spark']\n",
    "conf = SparkConf() \\\n",
    "    .setAppName(\"spark demo\") \\\n",
    "    .setMaster(\"local[*]\") \\\n",
    "    .set(\"spark.jars\", \"/opt/spark/jars/iceberg-spark-runtime-3.5_2.12-1.5.1.jar, /opt/spark/jars/iceberg-aws-bundle-1.5.1.jar \")\\\n",
    "    .set(\"spark.driver.memory\",\"1g\") \\\n",
    "    .set(\"spark.executor.memory\", \"2g\") \\\n",
    "    .set(\"spark.driver.host\", \"localhost\") \\\n",
    "    .set(\"spark.sql.shuffle.partitions\", \"40\") \\\n",
    "    .set(\"spark.sql.catalog.apm\", \"org.apache.iceberg.spark.SparkCatalog\") \\\n",
    "    .set(\"iceberg.engine.hive.enabled\", \"true\") \\\n",
    "    .set(\"spark.sql.defaultCatalog\", \"apm\")\\\n",
    "    .set(\"spark.sql.catalog.apm.type\", \"hive\") \\\n",
    "    .set(\"spark.sql.catalog.apm.uri\", \"thrift://hive-metastore:9083\")\\\n",
    "    .set(\"spark.sql.catalog.apm.cache-enabled\", \"false\")\\\n",
    "    .set(\"spark.hadoop.hive.metastore.schema.verification\", \"false\")\\\n",
    "    .set(\"spark.hadoop.hive.metastore.schema.verification.record.version\", \"false\")\\\n",
    "    .set(\"spark.sql.catalog.apm.warehouse\", \"s3a://datamesh/observability/\")\\\n",
    "    .set(\"spark.sql.catalog.apm.io-impl\", \"org.apache.iceberg.aws.s3.S3FileIO\")\\\n",
    "    .set(\"spark.sql.catalog.apm.s3.endpoint\", \"http://minio:9000\")\\\n",
    "    .set(\"spark.sql.extensions\", \"org.apache.iceberg.spark.extensions.IcebergSparkSessionExtensions\")\\\n",
    "    .set(\"spark.eventLog.enabled\", \"false\")\\\n",
    "    .set(\"spark.sql.catalog.apm.s3.path-style-access\", \"true\")\\\n",
    "    .set(\"spark.sql.storeAssignmentPolicy\", \"ANSI\")\n",
    "\n",
    "spark = SparkSession.builder.config(conf=conf).enableHiveSupport().getOrCreate()\n"
   ]
  },
  {
   "cell_type": "code",
   "execution_count": 3,
   "id": "ccf4797b-3d72-4cd6-beb5-566086bb5753",
   "metadata": {},
   "outputs": [],
   "source": [
    "emp_data = [\n",
    "    [\"001\",\"101\",\"John Doe\",\"30\",\"Male\",\"50000\",\"2015-01-01\"],\n",
    "    [\"002\",\"101\",\"Jane Smith\",\"25\",\"Female\",\"45000\",\"2016-02-15\"],\n",
    "    [\"003\",\"102\",\"Bob Brown\",\"35\",\"Male\",\"55000\",\"2014-05-01\"],\n",
    "    [\"004\",\"102\",\"Alice Lee\",\"28\",\"Female\",\"48000\",\"2017-09-30\"],\n",
    "    [\"005\",\"103\",\"Jack Chan\",\"40\",\"Male\",\"60000\",\"2013-04-01\"],\n",
    "    [\"006\",\"103\",\"Jill Wong\",\"32\",\"Female\",\"52000\",\"2018-07-01\"],\n",
    "    [\"007\",\"101\",\"James Johnson\",\"42\",\"Male\",\"70000\",\"2012-03-15\"],\n",
    "    [\"008\",\"102\",\"Kate Kim\",\"29\",\"Female\",\"51000\",\"2019-10-01\"],\n",
    "    [\"009\",\"103\",\"Tom Tan\",\"33\",\"Male\",\"58000\",\"2016-06-01\"],\n",
    "    [\"010\",\"104\",\"Lisa Lee\",\"27\",\"Female\",\"47000\",\"2018-08-01\"],\n",
    "    [\"011\",\"104\",\"David Park\",\"38\",\"Male\",\"65000\",\"2015-11-01\"],\n",
    "    [\"012\",\"105\",\"Susan Chen\",\"31\",\"Female\",\"54000\",\"2017-02-15\"],\n",
    "    [\"013\",\"106\",\"Brian Kim\",\"45\",\"Male\",\"75000\",\"2011-07-01\"],\n",
    "    [\"014\",\"107\",\"Emily Lee\",\"26\",\"Female\",\"46000\",\"2019-01-01\"],\n",
    "    [\"015\",\"106\",\"Michael Lee\",\"37\",\"Male\",\"63000\",\"2014-09-30\"],\n",
    "    [\"016\",\"107\",\"Kelly Zhang\",\"30\",\"Female\",\"49000\",\"2018-04-01\"],\n",
    "    [\"017\",\"105\",\"George Wang\",\"34\",\"Male\",\"57000\",\"2016-03-15\"],\n",
    "    [\"018\",\"104\",\"Nancy Liu\",\"29\",\"Female\",\"50000\",\"2017-06-01\"],\n",
    "    [\"019\",\"103\",\"Steven Chen\",\"36\",\"Male\",\"62000\",\"2015-08-01\"],\n",
    "    [\"020\",\"102\",\"Grace Kim\",\"32\",\"Female\",\"53000\",\"2018-11-01\"]\n",
    "]\n",
    "\n",
    "emp_schema = \"employee_id string, department_id string, name string, age string, gender string, salary string, hire_date string\""
   ]
  },
  {
   "cell_type": "code",
   "execution_count": 4,
   "id": "bdbd0de1-76db-4df8-bc24-8ce4561b039b",
   "metadata": {},
   "outputs": [
    {
     "name": "stdout",
     "output_type": "stream",
     "text": [
      "Iceberg databae created  1------ \n",
      "Iceberg databae created  ------ \n",
      "Iceberg table trace  created ------ \n",
      "Iceberg table 'apm.trace' created successfully.\n"
     ]
    }
   ],
   "source": [
    "\n",
    "\n",
    "try:\n",
    "    # Create Iceberg table using the specified schema and catalog\n",
    "    print(\"Iceberg databae created  1------ \")\n",
    "\n",
    "    spark.sql(\"\"\" CREATE DATABASE IF NOT EXISTS observability  \"\"\")\n",
    "    \n",
    "    # spark.sql(\"create database observability location '/user/data_transform/iceberg_test'\")\n",
    "   \n",
    "    print(\"Iceberg databae created  ------ \")\n",
    "   \n",
    "    \n",
    "    # spark.sql(\"\"\"\n",
    "    #     CREATE TABLE IF NOT EXISTS observability.trace  (\n",
    "    #         traceId string,\n",
    "    #         logData string                \n",
    "    #     )  USING iceberg  \"\"\")\n",
    "    \n",
    "    spark.sql(\"\"\"\n",
    "        CREATE TABLE IF NOT EXISTS observability.employee (\n",
    "            employee_id string,\n",
    "            department_id string,\n",
    "            name string,\n",
    "            age string,\n",
    "            gender string,\n",
    "            salary string,\n",
    "            hire_date string            \n",
    "        )  USING iceberg  \"\"\")\n",
    "    \n",
    "    print(\"Iceberg table trace  created ------ \")\n",
    "   \n",
    "    print(\"Iceberg table 'apm.trace' created successfully.\")\n",
    "except Exception as e:\n",
    "    print(\"Error creating Iceberg table:\", str(e))\n",
    "\n",
    " \n",
    "    \n",
    "    # trace_data.append({\n",
    "    #     \"traceId\": \"10012\",\n",
    "    #     # \"createdTime\": created_time,\n",
    "    #     \"logData\": \"mydata\"\n",
    "    # })\n",
    "\n",
    "    # trace_df = spark.createDataFrame(trace, schema=create_schema())\n",
    "\n",
    "    # try:\n",
    "       \n",
    "    #     # trace_df.writeTo(\"iceberg.observability.trace\").create()\n",
    "    #     trace_df.show()\n",
    "    #     trace_df.printSchema()\n",
    "    #     spark.catalog.currentDatabase()\n",
    "    #     spark.catalog.listDatabases()\n",
    "    #     # trace_df.writeTo(\"observability.trace\").createOrReplace()\n",
    "    #     trace_df.writeTo(\"observability.trace\").append()\n",
    "        \n",
    "    #     print(\"Data written to Iceberg table trace successfully.\" )\n",
    "    # except Exception as e:\n",
    "    #     print(\"Error writing data to Iceberg trace table:\", str(e))"
   ]
  },
  {
   "cell_type": "code",
   "execution_count": 5,
   "id": "5783707a-6857-43ed-903b-473e4a052f3e",
   "metadata": {},
   "outputs": [],
   "source": [
    "emp = spark.createDataFrame(data=emp_data, schema=emp_schema)"
   ]
  },
  {
   "cell_type": "code",
   "execution_count": 6,
   "id": "3dfbc986-ce56-4375-8d93-f9897340564e",
   "metadata": {},
   "outputs": [
    {
     "name": "stdout",
     "output_type": "stream",
     "text": [
      "+-----------+-------------+-------------+---+------+------+----------+\n",
      "|employee_id|department_id|         name|age|gender|salary| hire_date|\n",
      "+-----------+-------------+-------------+---+------+------+----------+\n",
      "|        001|          101|     John Doe| 30|  Male| 50000|2015-01-01|\n",
      "|        002|          101|   Jane Smith| 25|Female| 45000|2016-02-15|\n",
      "|        003|          102|    Bob Brown| 35|  Male| 55000|2014-05-01|\n",
      "|        004|          102|    Alice Lee| 28|Female| 48000|2017-09-30|\n",
      "|        005|          103|    Jack Chan| 40|  Male| 60000|2013-04-01|\n",
      "|        006|          103|    Jill Wong| 32|Female| 52000|2018-07-01|\n",
      "|        007|          101|James Johnson| 42|  Male| 70000|2012-03-15|\n",
      "|        008|          102|     Kate Kim| 29|Female| 51000|2019-10-01|\n",
      "|        009|          103|      Tom Tan| 33|  Male| 58000|2016-06-01|\n",
      "|        010|          104|     Lisa Lee| 27|Female| 47000|2018-08-01|\n",
      "|        011|          104|   David Park| 38|  Male| 65000|2015-11-01|\n",
      "|        012|          105|   Susan Chen| 31|Female| 54000|2017-02-15|\n",
      "|        013|          106|    Brian Kim| 45|  Male| 75000|2011-07-01|\n",
      "|        014|          107|    Emily Lee| 26|Female| 46000|2019-01-01|\n",
      "|        015|          106|  Michael Lee| 37|  Male| 63000|2014-09-30|\n",
      "|        016|          107|  Kelly Zhang| 30|Female| 49000|2018-04-01|\n",
      "|        017|          105|  George Wang| 34|  Male| 57000|2016-03-15|\n",
      "|        018|          104|    Nancy Liu| 29|Female| 50000|2017-06-01|\n",
      "|        019|          103|  Steven Chen| 36|  Male| 62000|2015-08-01|\n",
      "|        020|          102|    Grace Kim| 32|Female| 53000|2018-11-01|\n",
      "+-----------+-------------+-------------+---+------+------+----------+\n",
      "\n"
     ]
    }
   ],
   "source": [
    "# Show data (ACTION)\n",
    "\n",
    "emp.show()"
   ]
  },
  {
   "cell_type": "code",
   "execution_count": null,
   "id": "4c13f5dd-d872-486c-9145-1dc1eb879917",
   "metadata": {},
   "outputs": [
    {
     "name": "stderr",
     "output_type": "stream",
     "text": [
      "24/05/02 02:42:23 WARN HiveConf: HiveConf of name hive.stats.jdbc.timeout does not exist\n",
      "24/05/02 02:42:23 WARN HiveConf: HiveConf of name hive.stats.retries.wait does not exist\n"
     ]
    }
   ],
   "source": [
    "emp.writeTo(\"observability.employee\").append()"
   ]
  },
  {
   "cell_type": "code",
   "execution_count": null,
   "id": "6b823f16-8743-477c-af17-2e33a73dda9f",
   "metadata": {},
   "outputs": [],
   "source": []
  }
 ],
 "metadata": {
  "kernelspec": {
   "display_name": "Python 3 (ipykernel)",
   "language": "python",
   "name": "python3"
  },
  "language_info": {
   "codemirror_mode": {
    "name": "ipython",
    "version": 3
   },
   "file_extension": ".py",
   "mimetype": "text/x-python",
   "name": "python",
   "nbconvert_exporter": "python",
   "pygments_lexer": "ipython3",
   "version": "3.9.19"
  }
 },
 "nbformat": 4,
 "nbformat_minor": 5
}
